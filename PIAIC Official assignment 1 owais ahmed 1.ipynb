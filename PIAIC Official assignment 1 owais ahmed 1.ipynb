{
 "cells": [
  {
   "cell_type": "markdown",
   "metadata": {},
   "source": [
    "## 1. Calculate Area of a Circle"
   ]
  },
  {
   "cell_type": "markdown",
   "metadata": {},
   "source": [
    "#### Write a Python program which accepts the radius of a circle from the user and compute the area.\n",
    "###### Program Console Sample Output 1:\n",
    "###### Input Radius: 0.5\n",
    "###### Area of Circle with radius 0.5 is 0.7853981634"
   ]
  },
  {
   "cell_type": "code",
   "execution_count": 1,
   "metadata": {},
   "outputs": [
    {
     "name": "stdout",
     "output_type": "stream",
     "text": [
      "Enter the radius of the circle = 2\n",
      "Area of the circle is = 12.566370614359172\n",
      "             OR          \n",
      "Area of Circle is = 12.57\n"
     ]
    }
   ],
   "source": [
    "\n",
    "import math\n",
    "\n",
    "Radius = float(input(\"Enter the radius of the circle = \"))\n",
    "\n",
    "Area = math.pi*(Radius**2)\n",
    "\n",
    "print(\"Area of the circle is = \"+str(Area))\n",
    "print(\"             OR          \")\n",
    "Area = round(Area,2)\n",
    "\n",
    "print(\"Area of Circle is = \"+str(Area))"
   ]
  },
  {
   "cell_type": "markdown",
   "metadata": {},
   "source": [
    "## 2. Check Number either positive, negative or zero"
   ]
  },
  {
   "cell_type": "markdown",
   "metadata": {},
   "source": [
    "#### Write a Python program to check if a number is positive, negative or zero\n",
    "###### Program Console Sample Output 1:\n",
    "###### Enter Number: -1\n",
    "##### Negative Number Entered\n",
    "###### Program Console Sample Output 2:\n",
    "##### Integer: 3\n",
    "##### Positive Number Entered\n",
    "###### Program Console Sample Output 3:\n",
    "##### Integer: 0\n",
    "###### Zero Entered"
   ]
  },
  {
   "cell_type": "code",
   "execution_count": 2,
   "metadata": {},
   "outputs": [
    {
     "name": "stdout",
     "output_type": "stream",
     "text": [
      "Enter any number = 2\n",
      "\"Positive number Entered\"\n"
     ]
    }
   ],
   "source": [
    "\n",
    "Number = float(input(\"Enter any number = \"))\n",
    "if Number > 0:\n",
    "    print(\"\\\"Positive number Entered\\\"\")\n",
    "elif Number < 0:\n",
    "    print(\"\\\"Negative number Entered\\\"\")\n",
    "else:\n",
    "    print(\"\\\"Zero Entered\\\"\")"
   ]
  },
  {
   "cell_type": "code",
   "execution_count": 3,
   "metadata": {},
   "outputs": [
    {
     "name": "stdout",
     "output_type": "stream",
     "text": [
      "Enter any number = -2\n",
      "\"Negative number Entered\"\n"
     ]
    }
   ],
   "source": [
    "Number = float(input(\"Enter any number = \"))\n",
    "if Number > 0:\n",
    "    print(\"\\\"Positive number Entered\\\"\")\n",
    "elif Number < 0:\n",
    "    print(\"\\\"Negative number Entered\\\"\")\n",
    "else:\n",
    "    print(\"\\\"Zero Entered\\\"\")"
   ]
  },
  {
   "cell_type": "code",
   "execution_count": 4,
   "metadata": {},
   "outputs": [
    {
     "name": "stdout",
     "output_type": "stream",
     "text": [
      "Enter any number = 0\n",
      "\"Zero Entered\"\n"
     ]
    }
   ],
   "source": [
    "Number = float(input(\"Enter any number = \"))\n",
    "if Number > 0:\n",
    "    print(\"\\\"Positive number Entered\\\"\")\n",
    "elif Number < 0:\n",
    "    print(\"\\\"Negative number Entered\\\"\")\n",
    "else:\n",
    "    print(\"\\\"Zero Entered\\\"\")"
   ]
  },
  {
   "cell_type": "markdown",
   "metadata": {},
   "source": [
    "## 3. Divisibility Check of two numbers"
   ]
  },
  {
   "cell_type": "markdown",
   "metadata": {},
   "source": [
    "#### Write a Python program to check whether a number is completely divisible by another number. Accept two integer values form the user\n",
    "##### Program Console Sample Output 1:\n",
    "###### Enter numerator: 4\n",
    "###### Enter Denominator: 2\n",
    "##### Number 4 is Completely divisible by 2\n",
    "###### Program Console Sample Output 2:\n",
    "##### Enter numerator: 7\n",
    "\n",
    "##### Enter Denominator: 4\n",
    "###### Number 7 is not Completely divisible by 4"
   ]
  },
  {
   "cell_type": "code",
   "execution_count": 5,
   "metadata": {},
   "outputs": [
    {
     "name": "stdout",
     "output_type": "stream",
     "text": [
      "Enter Numerator = 2\n",
      "Enter Denominator = 1\n",
      "Number 2 is completely divisible by 1\n"
     ]
    }
   ],
   "source": [
    "Numerator = int(input(\"Enter Numerator = \"))\n",
    "Denominator = int(input(\"Enter Denominator = \"))\n",
    "Num = Numerator%Denominator\n",
    "if Num==0:\n",
    "    print(f\"Number {Numerator} is completely divisible by {Denominator}\")\n",
    "else:\n",
    "    print(f\"Number {Numerator} is not completely divisible by {Denominator}\")"
   ]
  },
  {
   "cell_type": "code",
   "execution_count": 6,
   "metadata": {},
   "outputs": [
    {
     "name": "stdout",
     "output_type": "stream",
     "text": [
      "Enter Numerator = 7\n",
      "Enter Denominator = 4\n",
      "Number 7 is not completely divisible by 4\n"
     ]
    }
   ],
   "source": [
    "Numerator = int(input(\"Enter Numerator = \"))\n",
    "Denominator = int(input(\"Enter Denominator = \"))\n",
    "Num = Numerator%Denominator\n",
    "if Num==0:\n",
    "    print(f\"Number {Numerator} is completely divisible by {Denominator}\")\n",
    "else:\n",
    "    print(f\"Number {Numerator} is not completely divisible by {Denominator}\")"
   ]
  },
  {
   "cell_type": "markdown",
   "metadata": {},
   "source": [
    "## 4. Calculate Volume of a sphere"
   ]
  },
  {
   "cell_type": "markdown",
   "metadata": {},
   "source": [
    "##### Write a Python program to get the volume of a sphere, please take the radius as input from user"
   ]
  },
  {
   "cell_type": "markdown",
   "metadata": {},
   "source": [
    "##### Program Console Output:\n",
    "##### Enter Radius of Sphere: 1\n",
    "###### Volume of the Sphere with Radius 1 is 4.18"
   ]
  },
  {
   "cell_type": "code",
   "execution_count": 7,
   "metadata": {},
   "outputs": [
    {
     "name": "stdout",
     "output_type": "stream",
     "text": [
      "Enter the volume of a sphere = 2\n",
      "Volume of a sphere is = 33.51\n"
     ]
    }
   ],
   "source": [
    "import math\n",
    "Radius = float(input(\"Enter the volume of a sphere = \"))\n",
    "Volume = (4/3)*math.pi*(Radius**3)\n",
    "Volume = round(Volume,2)\n",
    "print(\"Volume of a sphere is = \"+str(Volume))"
   ]
  },
  {
   "cell_type": "markdown",
   "metadata": {},
   "source": [
    "## 5. Copy string n times\n",
    "#### Write a Python program to get a string which is n (non-negative integer) copies of a given string.\n",
    "##### Program Console Output:\n",
    "##### Enter String: Hi\n",
    "###### How many copies of String you need: 4\n",
    "###### 4 Copies of Hi are HiHiHiHi"
   ]
  },
  {
   "cell_type": "code",
   "execution_count": 8,
   "metadata": {},
   "outputs": [
    {
     "name": "stdout",
     "output_type": "stream",
     "text": [
      "Enter string = hello\n",
      "How many copies of string you need = 2\n",
      "hellohello\n"
     ]
    }
   ],
   "source": [
    "a = (input(\"Enter string = \"))\n",
    "b = (input(\"How many copies of string you need = \"))\n",
    "print(a*int(b))"
   ]
  },
  {
   "cell_type": "markdown",
   "metadata": {},
   "source": [
    "## 6. Check if number is Even or Odd\n",
    "### Write a Python program to find whether a given number (accept from the user) is even or odd, print out an appropriate message to the user\n",
    "#### Program Console Output 1:\n",
    "##### Enter Number: 4\n",
    "###### 4 is Even\n",
    "#### Program Console Output 2:\n",
    "##### Enter Number: 9\n",
    "###### 9 is Odd"
   ]
  },
  {
   "cell_type": "code",
   "execution_count": 9,
   "metadata": {},
   "outputs": [
    {
     "name": "stdout",
     "output_type": "stream",
     "text": [
      "Enter a number = 6\n",
      "\"6 is Even\"\n"
     ]
    }
   ],
   "source": [
    "\n",
    "Number = int(input(\"Enter a number = \"))\n",
    "if Number % 2 == 0:\n",
    "    print(f\"\\\"{Number} is Even\\\"\")\n",
    "else:\n",
    "    print(f\"\\\"{Number} is Odd\\\"\")"
   ]
  },
  {
   "cell_type": "code",
   "execution_count": 10,
   "metadata": {},
   "outputs": [
    {
     "name": "stdout",
     "output_type": "stream",
     "text": [
      "Enter a number = 7\n",
      "\"7 is Odd\"\n"
     ]
    }
   ],
   "source": [
    "Number = int(input(\"Enter a number = \"))\n",
    "if Number % 2 == 0:\n",
    "    print(f\"\\\"{Number} is Even\\\"\")\n",
    "else:\n",
    "    print(f\"\\\"{Number} is Odd\\\"\")\n",
    "    "
   ]
  },
  {
   "cell_type": "markdown",
   "metadata": {},
   "source": [
    "## 7. Vowel Tester\n",
    "### Write a Python program to test whether a passed letter is a vowel or not\n",
    "#### Program Console Output 1:\n",
    "##### Enter a character: A\n",
    "###### Letter A is Vowel\n",
    "#### Program Console Output 2:\n",
    "##### Enter a character: e\n",
    "###### Letter e is Vowel\n",
    "#### Program Console Output 2:\n",
    "##### Enter a character: N\n",
    "###### Letter N is not Vowel"
   ]
  },
  {
   "cell_type": "code",
   "execution_count": 11,
   "metadata": {},
   "outputs": [
    {
     "name": "stdout",
     "output_type": "stream",
     "text": [
      "Enter any letter = a\n",
      "letter a is vowel\n"
     ]
    }
   ],
   "source": [
    "Letter = input(\"Enter any letter = \")\n",
    "if Letter == \"a\" or \"e\" or \"i\" or \"o\" or \"u\" or \"A\" or \"E\" or \"I\" or \"O\" or \"U\":\n",
    "    print(f\"letter {Letter} is vowel\")\n",
    "else:\n",
    "    print(f\"letter {Letter} is not a vowel\")\n",
    "    "
   ]
  },
  {
   "cell_type": "code",
   "execution_count": 12,
   "metadata": {},
   "outputs": [
    {
     "name": "stdout",
     "output_type": "stream",
     "text": [
      "Enter any letter = e\n",
      "letter e is vowel\n"
     ]
    }
   ],
   "source": [
    "Letter = input(\"Enter any letter = \")\n",
    "if Letter == \"a\" or \"e\" or \"i\" or \"o\" or \"u\" or \"A\" or \"E\" or \"I\" or \"O\" or \"U\":\n",
    "    print(f\"letter {Letter} is vowel\")\n",
    "else:\n",
    "    print(f\"letter {Letter} is not a vowel\")"
   ]
  },
  {
   "cell_type": "code",
   "execution_count": 13,
   "metadata": {},
   "outputs": [
    {
     "name": "stdout",
     "output_type": "stream",
     "text": [
      "Enter any letter = i\n",
      "letter i is vowel\n"
     ]
    }
   ],
   "source": [
    "Letter = input(\"Enter any letter = \")\n",
    "if Letter == \"a\" or \"e\" or \"i\" or \"o\" or \"u\" or \"A\" or \"E\" or \"I\" or \"O\" or \"U\":\n",
    "    print(f\"letter {Letter} is vowel\")\n",
    "else:\n",
    "    print(f\"letter {Letter} is not a vowel\")"
   ]
  },
  {
   "cell_type": "code",
   "execution_count": 15,
   "metadata": {},
   "outputs": [
    {
     "name": "stdout",
     "output_type": "stream",
     "text": [
      "Enter any letter = n\n",
      "letter n is not a vowel\n"
     ]
    }
   ],
   "source": [
    "Letter = input(\"Enter any letter = \")\n",
    "if Letter == \"a\" or \"e\" or \"i\" or \"o\" or \"u\" or \"A\" or \"E\" or \"I\" or \"O\" or \"U\":\n",
    "    print(f\"letter {Letter} is not a vowel\")\n",
    "else:\n",
    "    print(f\"letter {Letter} is vowel\")"
   ]
  },
  {
   "cell_type": "markdown",
   "metadata": {},
   "source": [
    "## 8. Triangle area\n",
    "### Write a Python program that will accept the base and height of a triangle and compute the area\n",
    "###### Reference:\n",
    "https://www.mathgoodies.com/lessons/vol1/area_triangle"
   ]
  },
  {
   "cell_type": "code",
   "execution_count": 16,
   "metadata": {},
   "outputs": [
    {
     "name": "stdout",
     "output_type": "stream",
     "text": [
      "Enter the height of tringle = 23\n",
      "Enter the base of triangle = 23\n",
      "Area of triangle i = 264.5\n"
     ]
    }
   ],
   "source": [
    "import math\n",
    "Height = float(input(\"Enter the height of tringle = \"))\n",
    "Base = float(input(\"Enter the base of triangle = \"))\n",
    "Area = (Height * Base)/2\n",
    "Area = round(Area,2)\n",
    "print(f\"Area of triangle i = {Area}\")"
   ]
  },
  {
   "cell_type": "markdown",
   "metadata": {},
   "source": [
    "## 9. Calculate Interest\n",
    "### Write a Python program to compute the future value of a specified principal amount, rate of interest, and a number of years\n",
    "#### Program Console Sample 1:\n",
    "##### Please enter principal amount: 10000\n",
    "###### Please Enter Rate of interest in %: 0.1\n",
    "###### Enter number of years for investment: 5\n",
    "###### After 5 years your principal amount 10000 over an interest rate of 0.1 % will be 16105.1"
   ]
  },
  {
   "cell_type": "code",
   "execution_count": 17,
   "metadata": {},
   "outputs": [
    {
     "name": "stdout",
     "output_type": "stream",
     "text": [
      "Enter the principal Amount = 10000\n"
     ]
    }
   ],
   "source": [
    "principal_amount =float(input(\"Enter the principal Amount = \"))"
   ]
  },
  {
   "cell_type": "code",
   "execution_count": 18,
   "metadata": {},
   "outputs": [
    {
     "name": "stdout",
     "output_type": "stream",
     "text": [
      "Enter the rate of interest in % = 0.1\n"
     ]
    }
   ],
   "source": [
    "rate_of_interest=float(input(\"Enter the rate of interest in % = \"))"
   ]
  },
  {
   "cell_type": "code",
   "execution_count": 19,
   "metadata": {},
   "outputs": [
    {
     "name": "stdout",
     "output_type": "stream",
     "text": [
      "Enter Number of years for Inverstment = 5\n"
     ]
    }
   ],
   "source": [
    "years = int(input(\"Enter Number of years for Inverstment = \"))"
   ]
  },
  {
   "cell_type": "code",
   "execution_count": 20,
   "metadata": {},
   "outputs": [
    {
     "name": "stdout",
     "output_type": "stream",
     "text": [
      "After 5 years your Principal Amount 10000.0 over an Interest of 0.1 will be 16105.1\n"
     ]
    }
   ],
   "source": [
    "import math\n",
    "rate = 0.1 * 100\n",
    "interest_rate = principal_amount * ((1+ (10/100)) ** years)\n",
    "interest_rate = round(interest_rate, 2)\n",
    "\n",
    "print(f\"After {years} years your Principal Amount {principal_amount} over an Interest of {rate_of_interest} will be {interest_rate}\")"
   ]
  },
  {
   "cell_type": "markdown",
   "metadata": {},
   "source": [
    "## 10. Euclidean distance\n",
    "### write a Python program to compute the distance between the points (x1, y1) and (x2, y2).\n",
    "#### Program Console Sample 1:\n",
    "###### Enter Co-ordinate for x1: 2\n",
    "###### Enter Co-ordinate for x2: 4\n",
    "###### Enter Co-ordinate for y1: 4\n",
    "###### Enter Co-ordinate for y2: 4\n",
    "###### Distance between points (2, 4) and (4, 4) is 2"
   ]
  },
  {
   "cell_type": "markdown",
   "metadata": {},
   "source": [
    "###### Reference:\n",
    "https://en.wikipedia.org/wiki/Euclidean_distance"
   ]
  },
  {
   "cell_type": "code",
   "execution_count": 21,
   "metadata": {},
   "outputs": [
    {
     "name": "stdout",
     "output_type": "stream",
     "text": [
      "enter co-ordinate for x1 = 2\n",
      "enter co-ordinate for x2 = 3\n",
      "enter co-ordinate for y1 = 4\n",
      "enter co-ordinate for y2 = 5\n",
      "Distance between points (2,4) and (3,5) is 1.0 \n"
     ]
    }
   ],
   "source": [
    "import math\n",
    "x1 = int(input(\"enter co-ordinate for x1 = \"))\n",
    "x2 = int(input(\"enter co-ordinate for x2 = \"))\n",
    "y1 = int(input(\"enter co-ordinate for y1 = \"))\n",
    "y2 = int(input(\"enter co-ordinate for y2 = \"))\n",
    "p=(((x2-x1)**2)+((y2-y1)**2))**1/2\n",
    "print(f\"Distance between points ({x1},{y1}) and ({x2},{y2}) is {p} \")"
   ]
  },
  {
   "cell_type": "markdown",
   "metadata": {},
   "source": [
    "## 11. Feet to Centimeter Converter\n",
    "### Write a Python program to convert height in feet to centimetres.\n",
    "##### Program Console Sample 1:\n",
    "###### Enter Height in Feet: 5\n",
    "###### There are 152.4 Cm in 5 ft\n",
    "###### Reference:\n",
    "https://www.rapidtables.com/convert/length/feet-to-cm.html"
   ]
  },
  {
   "cell_type": "code",
   "execution_count": 22,
   "metadata": {},
   "outputs": [
    {
     "name": "stdout",
     "output_type": "stream",
     "text": [
      "Enter your height in feet = 5\n",
      "There are 152.4cm in 5ft \n"
     ]
    }
   ],
   "source": [
    "\n",
    "feet=int(input(\"Enter your height in feet = \"))\n",
    "centimeter= feet* 30.48\n",
    "print(f\"There are {centimeter}cm in {feet}ft \")"
   ]
  },
  {
   "cell_type": "markdown",
   "metadata": {},
   "source": [
    "## 12. BMI Calculator\n",
    "### Write a Python program to calculate body mass index\n",
    "##### Program Console Sample 1:\n",
    "###### Enter Height in Cm: 180\n",
    "###### Enter Weight in Kg: 75\n",
    "###### Your BMI is 23.15"
   ]
  },
  {
   "cell_type": "code",
   "execution_count": 23,
   "metadata": {},
   "outputs": [
    {
     "name": "stdout",
     "output_type": "stream",
     "text": [
      "Enter height in cm = 180\n",
      "Enter weight = 75\n",
      "Your bmi is  23.148148148148145\n"
     ]
    }
   ],
   "source": [
    "Height = int(input(\"Enter height in cm = \"))\n",
    "Weight = int(input(\"Enter weight = \"))\n",
    "BMI = Weight/(Height/100)**2\n",
    "print(\"Your bmi is \",BMI)"
   ]
  },
  {
   "cell_type": "markdown",
   "metadata": {},
   "source": [
    "## 13. Sum of n Positive Integers\n",
    "### Write a python program to sum of the first n positive integers\n",
    "#### Program Console Sample 1:\n",
    "###### Enter value of n: 5\n",
    "###### Sum of n Positive integers till 5 is 15"
   ]
  },
  {
   "cell_type": "code",
   "execution_count": 1,
   "metadata": {},
   "outputs": [
    {
     "name": "stdout",
     "output_type": "stream",
     "text": [
      "Enter value of n = 5\n",
      "Sum of n positive integer till 5 is 15\n"
     ]
    }
   ],
   "source": [
    "n=int(input(\"Enter value of n = \"))\n",
    "a=0\n",
    "for b in range(0,n+1,1):\n",
    "    a=a+b\n",
    "print(f\"Sum of n positive integer till {n} is {a}\")"
   ]
  },
  {
   "cell_type": "code",
   "execution_count": null,
   "metadata": {},
   "outputs": [],
   "source": []
  },
  {
   "cell_type": "code",
   "execution_count": null,
   "metadata": {},
   "outputs": [],
   "source": []
  },
  {
   "cell_type": "markdown",
   "metadata": {},
   "source": [
    "## 14. Digits Sum of a Number\n",
    "### Write a Python program to calculate the sum of the digits in an integer\n",
    "#### Program Console Sample 1:\n",
    "##### Enter a number: 15\n",
    "###### Sum of 1 + 5 is 6\n",
    "#### Program Console Sample 2:\n",
    "##### Enter a number: 1234\n",
    "###### Sum of 1 + 2 + 3 + 4 is 10"
   ]
  },
  {
   "cell_type": "code",
   "execution_count": 2,
   "metadata": {},
   "outputs": [
    {
     "name": "stdout",
     "output_type": "stream",
     "text": [
      "enter integer value = 15\n",
      "sum of the digits are =  6\n"
     ]
    }
   ],
   "source": [
    "\n",
    "a = input(\"enter integer value = \")\n",
    "sum = 0\n",
    "for d in a:\n",
    "    sum += int(d)\n",
    "print(\"sum of the digits are = \", sum)"
   ]
  },
  {
   "cell_type": "code",
   "execution_count": 3,
   "metadata": {},
   "outputs": [
    {
     "name": "stdout",
     "output_type": "stream",
     "text": [
      "enter integer value = 1234\n",
      "sum of the digits are =  10\n"
     ]
    }
   ],
   "source": [
    "b = input(\"enter integer value = \")\n",
    "sum = 0\n",
    "for d in b:\n",
    "    sum += int(d)\n",
    "print(\"sum of the digits are = \", sum)"
   ]
  },
  {
   "cell_type": "code",
   "execution_count": null,
   "metadata": {},
   "outputs": [],
   "source": []
  },
  {
   "cell_type": "code",
   "execution_count": null,
   "metadata": {},
   "outputs": [],
   "source": []
  },
  {
   "cell_type": "code",
   "execution_count": null,
   "metadata": {},
   "outputs": [],
   "source": []
  },
  {
   "cell_type": "code",
   "execution_count": null,
   "metadata": {},
   "outputs": [],
   "source": []
  },
  {
   "cell_type": "code",
   "execution_count": null,
   "metadata": {},
   "outputs": [],
   "source": []
  },
  {
   "cell_type": "code",
   "execution_count": null,
   "metadata": {},
   "outputs": [],
   "source": []
  }
 ],
 "metadata": {
  "kernelspec": {
   "display_name": "Python 3",
   "language": "python",
   "name": "python3"
  },
  "language_info": {
   "codemirror_mode": {
    "name": "ipython",
    "version": 3
   },
   "file_extension": ".py",
   "mimetype": "text/x-python",
   "name": "python",
   "nbconvert_exporter": "python",
   "pygments_lexer": "ipython3",
   "version": "3.7.3"
  }
 },
 "nbformat": 4,
 "nbformat_minor": 2
}
